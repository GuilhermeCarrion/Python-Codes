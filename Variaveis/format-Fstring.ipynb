{
 "cells": [
  {
   "cell_type": "code",
   "execution_count": 4,
   "metadata": {},
   "outputs": [
    {
     "name": "stdout",
     "output_type": "stream",
     "text": [
      "Faturamento foi de : 1000\n",
      "Faturamento foi de : 1000 e o custo de : 400\n"
     ]
    }
   ],
   "source": [
    "faturamento = 1000\n",
    "custo = 400\n",
    "\n",
    "print(\"Faturamento foi de : {}\".format(faturamento))\n",
    "print(\"Faturamento foi de : {} e o custo de : {}\".format(faturamento, custo))"
   ]
  },
  {
   "cell_type": "markdown",
   "metadata": {},
   "source": [
    "# F-string"
   ]
  },
  {
   "cell_type": "code",
   "execution_count": 5,
   "metadata": {},
   "outputs": [
    {
     "name": "stdout",
     "output_type": "stream",
     "text": [
      "Faturamento foi de : 1000 reais e o custo de 400 reais. Assim o lucro foi de 600 reais\n"
     ]
    }
   ],
   "source": [
    "print(f\"Faturamento foi de : {faturamento} reais e o custo de {custo} reais. Assim o lucro foi de {faturamento - custo} reais\")\n"
   ]
  }
 ],
 "metadata": {
  "kernelspec": {
   "display_name": "Python 3",
   "language": "python",
   "name": "python3"
  },
  "language_info": {
   "codemirror_mode": {
    "name": "ipython",
    "version": 3
   },
   "file_extension": ".py",
   "mimetype": "text/x-python",
   "name": "python",
   "nbconvert_exporter": "python",
   "pygments_lexer": "ipython3",
   "version": "3.12.3"
  }
 },
 "nbformat": 4,
 "nbformat_minor": 2
}
