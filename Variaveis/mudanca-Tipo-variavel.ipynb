{
 "cells": [
  {
   "cell_type": "code",
   "execution_count": 4,
   "metadata": {},
   "outputs": [
    {
     "name": "stdout",
     "output_type": "stream",
     "text": [
      "O faturamento foi de 1923 reais, o custo de 250 reais e o lucro de 1673.43\n"
     ]
    }
   ],
   "source": [
    "faturamento = float(input(\"Qual o faturemento da loja: \"))\n",
    "custo = float(input(\"Qual o custo da loja: \"))\n",
    "\n",
    "lucro = faturamento - custo\n",
    "\n",
    "print(f\"O faturamento foi de {faturamento} reais, o custo de {custo} reais e o lucro de {lucro}\")\n",
    "\n",
    "#str() -> muda para string\n",
    "#int() -> muda para inteiro\n",
    "#float() -> muda para float"
   ]
  }
 ],
 "metadata": {
  "kernelspec": {
   "display_name": "Python 3",
   "language": "python",
   "name": "python3"
  },
  "language_info": {
   "codemirror_mode": {
    "name": "ipython",
    "version": 3
   },
   "file_extension": ".py",
   "mimetype": "text/x-python",
   "name": "python",
   "nbconvert_exporter": "python",
   "pygments_lexer": "ipython3",
   "version": "3.12.3"
  }
 },
 "nbformat": 4,
 "nbformat_minor": 2
}
