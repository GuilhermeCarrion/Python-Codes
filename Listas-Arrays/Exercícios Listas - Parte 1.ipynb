{
 "cells": [
  {
   "cell_type": "markdown",
   "metadata": {},
   "source": [
    "# Exercícios\n",
    "\n",
    "## 1. Faturamento do Melhor e do Pior Mês do Ano\n",
    "\n",
    "Qual foi o valor de vendas do melhor mês do Ano?\n",
    "E valor do pior mês do ano?"
   ]
  },
  {
   "cell_type": "code",
   "execution_count": 8,
   "metadata": {},
   "outputs": [
    {
     "name": "stdout",
     "output_type": "stream",
     "text": [
      "Mês com maior valor de vendas : nov com 49051 reais em vendas\n",
      "Mês com menor valor de vendas : dez com 9650 reais em vendas\n"
     ]
    }
   ],
   "source": [
    "meses = ['jan', 'fev', 'mar', 'abr', 'mai', 'jun', 'jul', 'ago', 'set', 'out', 'nov', 'dez']\n",
    "vendas_1sem = [25000, 29000, 22200, 17750, 15870, 19900]\n",
    "vendas_2sem = [19850, 20120, 17540, 15555, 49051, 9650]\n",
    "\n",
    "total_vendas = vendas_1sem + vendas_2sem\n",
    "\n",
    "maior_valor = max(total_vendas)\n",
    "menor_valor = min(total_vendas)\n",
    "\n",
    "mes_maior = total_vendas.index(maior_valor)\n",
    "mes_menor = total_vendas.index(menor_valor)\n",
    "\n",
    "print(f\"Mês com maior valor de vendas : {meses[mes_maior]} com {maior_valor} reais em vendas\")\n",
    "print(f\"Mês com menor valor de vendas : {meses[mes_menor]} com {menor_valor} reais em vendas\")"
   ]
  },
  {
   "cell_type": "markdown",
   "metadata": {},
   "source": [
    "## 2. Continuação\n",
    "\n",
    "Agora relacione as duas listas para printar 'O melhor mês do ano foi {} com {} vendas' e o mesmo para o pior mês do ano.\n",
    "\n",
    "Calcule também o faturamento total do Ano e quanto que o melhor mês representou do faturamento total.\n",
    "\n",
    "Obs: Para o faturamento total, pode usar a função sum(lista) que soma todos os itens de uma lista"
   ]
  },
  {
   "cell_type": "code",
   "execution_count": 16,
   "metadata": {},
   "outputs": [
    {
     "name": "stdout",
     "output_type": "stream",
     "text": [
      "Faturamento total : R$261,486\n",
      "O melhor mês representou 18.76% das vendas totais\n"
     ]
    }
   ],
   "source": [
    "soma_lista = sum(total_vendas)\n",
    "\n",
    "percentual = (maior_valor / soma_lista)\n",
    "\n",
    "print(\"Faturamento total : R${:,}\".format(soma_lista))\n",
    "\n",
    "print(\"O melhor mês representou {:.2%} das vendas totais\".format(percentual))"
   ]
  },
  {
   "cell_type": "markdown",
   "metadata": {},
   "source": [
    "## 3. Crie uma lista com o top 3 valores de vendas do ano (sem fazer \"no olho\")\n",
    "\n",
    "Dica: o método remove retira um item da lista."
   ]
  },
  {
   "cell_type": "code",
   "execution_count": 17,
   "metadata": {},
   "outputs": [
    {
     "name": "stdout",
     "output_type": "stream",
     "text": [
      "[49051, 29000, 25000]\n"
     ]
    }
   ],
   "source": [
    "top3 = []\n",
    "\n",
    "top3.append(maior_valor)\n",
    "total_vendas.remove(maior_valor)\n",
    "\n",
    "maior_valor = max(total_vendas)\n",
    "top3.append(maior_valor)\n",
    "total_vendas.remove(maior_valor)\n",
    "\n",
    "maior_valor = max(total_vendas)\n",
    "top3.append(maior_valor)\n",
    "\n",
    "print(top3)\n",
    "\n"
   ]
  }
 ],
 "metadata": {
  "kernelspec": {
   "display_name": "Python 3",
   "language": "python",
   "name": "python3"
  },
  "language_info": {
   "codemirror_mode": {
    "name": "ipython",
    "version": 3
   },
   "file_extension": ".py",
   "mimetype": "text/x-python",
   "name": "python",
   "nbconvert_exporter": "python",
   "pygments_lexer": "ipython3",
   "version": "3.12.3"
  }
 },
 "nbformat": 4,
 "nbformat_minor": 4
}
